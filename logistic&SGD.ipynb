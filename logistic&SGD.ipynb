{
  "nbformat": 4,
  "nbformat_minor": 0,
  "metadata": {
    "colab": {
      "name": "logistic&SGD.ipynb",
      "provenance": [],
      "collapsed_sections": []
    },
    "kernelspec": {
      "name": "python3",
      "display_name": "Python 3"
    },
    "language_info": {
      "name": "python"
    },
    "accelerator": "GPU"
  },
  "cells": [
    {
      "cell_type": "code",
      "execution_count": 1,
      "metadata": {
        "id": "Q6Od0FOsS6c1"
      },
      "outputs": [],
      "source": [
        "import pandas as pd\n",
        "import numpy as np\n",
        "import matplotlib.pyplot as plt\n",
        "import seaborn as sns\n",
        "import warnings\n",
        "# warnings.simplefilter(action='ignore', category=FutureWarning)\n",
        "%matplotlib inline"
      ]
    },
    {
      "cell_type": "code",
      "source": [
        "df = pd.read_csv('train_data.csv')\n",
        "df.head()"
      ],
      "metadata": {
        "colab": {
          "base_uri": "https://localhost:8080/",
          "height": 409
        },
        "id": "sKpeLf5fmYkX",
        "outputId": "c1464efc-ddfb-4529-9a0c-6c24bc9166f4"
      },
      "execution_count": 2,
      "outputs": [
        {
          "output_type": "execute_result",
          "data": {
            "text/plain": [
              "   case_id  Hospital_code Hospital_type_code  City_Code_Hospital  \\\n",
              "0        1              8                  c                   3   \n",
              "1        2              2                  c                   5   \n",
              "2        3             10                  e                   1   \n",
              "3        4             26                  b                   2   \n",
              "4        5             26                  b                   2   \n",
              "\n",
              "  Hospital_region_code  Available Extra Rooms in Hospital    Department  \\\n",
              "0                    Z                                  3  radiotherapy   \n",
              "1                    Z                                  2  radiotherapy   \n",
              "2                    X                                  2    anesthesia   \n",
              "3                    Y                                  2  radiotherapy   \n",
              "4                    Y                                  2  radiotherapy   \n",
              "\n",
              "  Ward_Type Ward_Facility_Code  Bed Grade  patientid  City_Code_Patient  \\\n",
              "0         R                  F        2.0      31397                7.0   \n",
              "1         S                  F        2.0      31397                7.0   \n",
              "2         S                  E        2.0      31397                7.0   \n",
              "3         R                  D        2.0      31397                7.0   \n",
              "4         S                  D        2.0      31397                7.0   \n",
              "\n",
              "  Type of Admission Severity of Illness  Visitors with Patient    Age  \\\n",
              "0         Emergency             Extreme                      2  51-60   \n",
              "1            Trauma             Extreme                      2  51-60   \n",
              "2            Trauma             Extreme                      2  51-60   \n",
              "3            Trauma             Extreme                      2  51-60   \n",
              "4            Trauma             Extreme                      2  51-60   \n",
              "\n",
              "   Admission_Deposit   Stay  \n",
              "0             4911.0   0-10  \n",
              "1             5954.0  41-50  \n",
              "2             4745.0  31-40  \n",
              "3             7272.0  41-50  \n",
              "4             5558.0  41-50  "
            ],
            "text/html": [
              "\n",
              "  <div id=\"df-e394afe3-86e6-4f26-815c-85d452259913\">\n",
              "    <div class=\"colab-df-container\">\n",
              "      <div>\n",
              "<style scoped>\n",
              "    .dataframe tbody tr th:only-of-type {\n",
              "        vertical-align: middle;\n",
              "    }\n",
              "\n",
              "    .dataframe tbody tr th {\n",
              "        vertical-align: top;\n",
              "    }\n",
              "\n",
              "    .dataframe thead th {\n",
              "        text-align: right;\n",
              "    }\n",
              "</style>\n",
              "<table border=\"1\" class=\"dataframe\">\n",
              "  <thead>\n",
              "    <tr style=\"text-align: right;\">\n",
              "      <th></th>\n",
              "      <th>case_id</th>\n",
              "      <th>Hospital_code</th>\n",
              "      <th>Hospital_type_code</th>\n",
              "      <th>City_Code_Hospital</th>\n",
              "      <th>Hospital_region_code</th>\n",
              "      <th>Available Extra Rooms in Hospital</th>\n",
              "      <th>Department</th>\n",
              "      <th>Ward_Type</th>\n",
              "      <th>Ward_Facility_Code</th>\n",
              "      <th>Bed Grade</th>\n",
              "      <th>patientid</th>\n",
              "      <th>City_Code_Patient</th>\n",
              "      <th>Type of Admission</th>\n",
              "      <th>Severity of Illness</th>\n",
              "      <th>Visitors with Patient</th>\n",
              "      <th>Age</th>\n",
              "      <th>Admission_Deposit</th>\n",
              "      <th>Stay</th>\n",
              "    </tr>\n",
              "  </thead>\n",
              "  <tbody>\n",
              "    <tr>\n",
              "      <th>0</th>\n",
              "      <td>1</td>\n",
              "      <td>8</td>\n",
              "      <td>c</td>\n",
              "      <td>3</td>\n",
              "      <td>Z</td>\n",
              "      <td>3</td>\n",
              "      <td>radiotherapy</td>\n",
              "      <td>R</td>\n",
              "      <td>F</td>\n",
              "      <td>2.0</td>\n",
              "      <td>31397</td>\n",
              "      <td>7.0</td>\n",
              "      <td>Emergency</td>\n",
              "      <td>Extreme</td>\n",
              "      <td>2</td>\n",
              "      <td>51-60</td>\n",
              "      <td>4911.0</td>\n",
              "      <td>0-10</td>\n",
              "    </tr>\n",
              "    <tr>\n",
              "      <th>1</th>\n",
              "      <td>2</td>\n",
              "      <td>2</td>\n",
              "      <td>c</td>\n",
              "      <td>5</td>\n",
              "      <td>Z</td>\n",
              "      <td>2</td>\n",
              "      <td>radiotherapy</td>\n",
              "      <td>S</td>\n",
              "      <td>F</td>\n",
              "      <td>2.0</td>\n",
              "      <td>31397</td>\n",
              "      <td>7.0</td>\n",
              "      <td>Trauma</td>\n",
              "      <td>Extreme</td>\n",
              "      <td>2</td>\n",
              "      <td>51-60</td>\n",
              "      <td>5954.0</td>\n",
              "      <td>41-50</td>\n",
              "    </tr>\n",
              "    <tr>\n",
              "      <th>2</th>\n",
              "      <td>3</td>\n",
              "      <td>10</td>\n",
              "      <td>e</td>\n",
              "      <td>1</td>\n",
              "      <td>X</td>\n",
              "      <td>2</td>\n",
              "      <td>anesthesia</td>\n",
              "      <td>S</td>\n",
              "      <td>E</td>\n",
              "      <td>2.0</td>\n",
              "      <td>31397</td>\n",
              "      <td>7.0</td>\n",
              "      <td>Trauma</td>\n",
              "      <td>Extreme</td>\n",
              "      <td>2</td>\n",
              "      <td>51-60</td>\n",
              "      <td>4745.0</td>\n",
              "      <td>31-40</td>\n",
              "    </tr>\n",
              "    <tr>\n",
              "      <th>3</th>\n",
              "      <td>4</td>\n",
              "      <td>26</td>\n",
              "      <td>b</td>\n",
              "      <td>2</td>\n",
              "      <td>Y</td>\n",
              "      <td>2</td>\n",
              "      <td>radiotherapy</td>\n",
              "      <td>R</td>\n",
              "      <td>D</td>\n",
              "      <td>2.0</td>\n",
              "      <td>31397</td>\n",
              "      <td>7.0</td>\n",
              "      <td>Trauma</td>\n",
              "      <td>Extreme</td>\n",
              "      <td>2</td>\n",
              "      <td>51-60</td>\n",
              "      <td>7272.0</td>\n",
              "      <td>41-50</td>\n",
              "    </tr>\n",
              "    <tr>\n",
              "      <th>4</th>\n",
              "      <td>5</td>\n",
              "      <td>26</td>\n",
              "      <td>b</td>\n",
              "      <td>2</td>\n",
              "      <td>Y</td>\n",
              "      <td>2</td>\n",
              "      <td>radiotherapy</td>\n",
              "      <td>S</td>\n",
              "      <td>D</td>\n",
              "      <td>2.0</td>\n",
              "      <td>31397</td>\n",
              "      <td>7.0</td>\n",
              "      <td>Trauma</td>\n",
              "      <td>Extreme</td>\n",
              "      <td>2</td>\n",
              "      <td>51-60</td>\n",
              "      <td>5558.0</td>\n",
              "      <td>41-50</td>\n",
              "    </tr>\n",
              "  </tbody>\n",
              "</table>\n",
              "</div>\n",
              "      <button class=\"colab-df-convert\" onclick=\"convertToInteractive('df-e394afe3-86e6-4f26-815c-85d452259913')\"\n",
              "              title=\"Convert this dataframe to an interactive table.\"\n",
              "              style=\"display:none;\">\n",
              "        \n",
              "  <svg xmlns=\"http://www.w3.org/2000/svg\" height=\"24px\"viewBox=\"0 0 24 24\"\n",
              "       width=\"24px\">\n",
              "    <path d=\"M0 0h24v24H0V0z\" fill=\"none\"/>\n",
              "    <path d=\"M18.56 5.44l.94 2.06.94-2.06 2.06-.94-2.06-.94-.94-2.06-.94 2.06-2.06.94zm-11 1L8.5 8.5l.94-2.06 2.06-.94-2.06-.94L8.5 2.5l-.94 2.06-2.06.94zm10 10l.94 2.06.94-2.06 2.06-.94-2.06-.94-.94-2.06-.94 2.06-2.06.94z\"/><path d=\"M17.41 7.96l-1.37-1.37c-.4-.4-.92-.59-1.43-.59-.52 0-1.04.2-1.43.59L10.3 9.45l-7.72 7.72c-.78.78-.78 2.05 0 2.83L4 21.41c.39.39.9.59 1.41.59.51 0 1.02-.2 1.41-.59l7.78-7.78 2.81-2.81c.8-.78.8-2.07 0-2.86zM5.41 20L4 18.59l7.72-7.72 1.47 1.35L5.41 20z\"/>\n",
              "  </svg>\n",
              "      </button>\n",
              "      \n",
              "  <style>\n",
              "    .colab-df-container {\n",
              "      display:flex;\n",
              "      flex-wrap:wrap;\n",
              "      gap: 12px;\n",
              "    }\n",
              "\n",
              "    .colab-df-convert {\n",
              "      background-color: #E8F0FE;\n",
              "      border: none;\n",
              "      border-radius: 50%;\n",
              "      cursor: pointer;\n",
              "      display: none;\n",
              "      fill: #1967D2;\n",
              "      height: 32px;\n",
              "      padding: 0 0 0 0;\n",
              "      width: 32px;\n",
              "    }\n",
              "\n",
              "    .colab-df-convert:hover {\n",
              "      background-color: #E2EBFA;\n",
              "      box-shadow: 0px 1px 2px rgba(60, 64, 67, 0.3), 0px 1px 3px 1px rgba(60, 64, 67, 0.15);\n",
              "      fill: #174EA6;\n",
              "    }\n",
              "\n",
              "    [theme=dark] .colab-df-convert {\n",
              "      background-color: #3B4455;\n",
              "      fill: #D2E3FC;\n",
              "    }\n",
              "\n",
              "    [theme=dark] .colab-df-convert:hover {\n",
              "      background-color: #434B5C;\n",
              "      box-shadow: 0px 1px 3px 1px rgba(0, 0, 0, 0.15);\n",
              "      filter: drop-shadow(0px 1px 2px rgba(0, 0, 0, 0.3));\n",
              "      fill: #FFFFFF;\n",
              "    }\n",
              "  </style>\n",
              "\n",
              "      <script>\n",
              "        const buttonEl =\n",
              "          document.querySelector('#df-e394afe3-86e6-4f26-815c-85d452259913 button.colab-df-convert');\n",
              "        buttonEl.style.display =\n",
              "          google.colab.kernel.accessAllowed ? 'block' : 'none';\n",
              "\n",
              "        async function convertToInteractive(key) {\n",
              "          const element = document.querySelector('#df-e394afe3-86e6-4f26-815c-85d452259913');\n",
              "          const dataTable =\n",
              "            await google.colab.kernel.invokeFunction('convertToInteractive',\n",
              "                                                     [key], {});\n",
              "          if (!dataTable) return;\n",
              "\n",
              "          const docLinkHtml = 'Like what you see? Visit the ' +\n",
              "            '<a target=\"_blank\" href=https://colab.research.google.com/notebooks/data_table.ipynb>data table notebook</a>'\n",
              "            + ' to learn more about interactive tables.';\n",
              "          element.innerHTML = '';\n",
              "          dataTable['output_type'] = 'display_data';\n",
              "          await google.colab.output.renderOutput(dataTable, element);\n",
              "          const docLink = document.createElement('div');\n",
              "          docLink.innerHTML = docLinkHtml;\n",
              "          element.appendChild(docLink);\n",
              "        }\n",
              "      </script>\n",
              "    </div>\n",
              "  </div>\n",
              "  "
            ]
          },
          "metadata": {},
          "execution_count": 2
        }
      ]
    },
    {
      "cell_type": "code",
      "source": [
        "df.drop(['case_id', 'patientid'], axis=1, inplace=True)"
      ],
      "metadata": {
        "id": "U7mwSgd8mdU-"
      },
      "execution_count": 3,
      "outputs": []
    },
    {
      "cell_type": "code",
      "source": [
        "df.isna().sum().sum()"
      ],
      "metadata": {
        "colab": {
          "base_uri": "https://localhost:8080/"
        },
        "id": "nRcXqHewmf09",
        "outputId": "5b613078-4f1b-4901-b709-4f606d1edf41"
      },
      "execution_count": 4,
      "outputs": [
        {
          "output_type": "execute_result",
          "data": {
            "text/plain": [
              "4645"
            ]
          },
          "metadata": {},
          "execution_count": 4
        }
      ]
    },
    {
      "cell_type": "code",
      "source": [
        "df=df.dropna()"
      ],
      "metadata": {
        "id": "3i4GUd0gmiFK"
      },
      "execution_count": 5,
      "outputs": []
    },
    {
      "cell_type": "code",
      "source": [
        "df.isna().sum().sum()"
      ],
      "metadata": {
        "colab": {
          "base_uri": "https://localhost:8080/"
        },
        "id": "p4u1ImcimkSz",
        "outputId": "984612a0-cdb1-430b-a8f4-3b29257c68f3"
      },
      "execution_count": 6,
      "outputs": [
        {
          "output_type": "execute_result",
          "data": {
            "text/plain": [
              "0"
            ]
          },
          "metadata": {},
          "execution_count": 6
        }
      ]
    },
    {
      "cell_type": "code",
      "source": [
        "numeric_cols = df.select_dtypes(include=np.number)"
      ],
      "metadata": {
        "id": "1WUdRzMOmrCj"
      },
      "execution_count": 7,
      "outputs": []
    },
    {
      "cell_type": "code",
      "source": [
        "correct_num = numeric_cols.drop(['Hospital_code', 'City_Code_Hospital', 'City_Code_Patient'], axis=1)"
      ],
      "metadata": {
        "id": "0LPELp90muZa"
      },
      "execution_count": 8,
      "outputs": []
    },
    {
      "cell_type": "code",
      "source": [
        "def outliersIQR(df, label):\n",
        "    print('before=',df[label].shape)\n",
        "    Q1 = np.percentile(df[label], 25,\n",
        "                   interpolation = 'midpoint')\n",
        " \n",
        "    Q3 = np.percentile(df[label], 75,\n",
        "                   interpolation = 'midpoint')\n",
        "    IQR = Q3 - Q1\n",
        "    # Above Upper bound\n",
        "    upper = Q3+1.5*IQR\n",
        "    # Below Lower bound\n",
        "    lower = Q1-1.5*IQR\n",
        "    df_new = df[(df[label] < upper) & (df[label] > lower)]\n",
        "    print('after=',df_new[label].shape)\n",
        "    return df_new"
      ],
      "metadata": {
        "id": "KGjUkKermyec"
      },
      "execution_count": 9,
      "outputs": []
    },
    {
      "cell_type": "code",
      "source": [
        "for c in correct_num.columns:\n",
        "    df=outliersIQR(df,c)\n",
        "## this output bec >> more than run \n"
      ],
      "metadata": {
        "colab": {
          "base_uri": "https://localhost:8080/"
        },
        "id": "CpiGPzfzm1ML",
        "outputId": "f151e93d-6513-4914-9ad2-1db159260943"
      },
      "execution_count": 10,
      "outputs": [
        {
          "output_type": "stream",
          "name": "stdout",
          "text": [
            "before= (313793,)\n",
            "after= (309620,)\n",
            "before= (309620,)\n",
            "after= (309620,)\n",
            "before= (309620,)\n",
            "after= (297759,)\n",
            "before= (297759,)\n",
            "after= (286334,)\n"
          ]
        }
      ]
    },
    {
      "cell_type": "code",
      "source": [
        "from sklearn.preprocessing import MinMaxScaler\n",
        "def normMinMax(df,label):\n",
        "\n",
        "    df[label] = MinMaxScaler().fit_transform(np.array(df[label]).reshape(-1,1))\n",
        "    return df[label]"
      ],
      "metadata": {
        "id": "bR4dIgDBm3ww"
      },
      "execution_count": 11,
      "outputs": []
    },
    {
      "cell_type": "code",
      "source": [
        "for c in numeric_cols.columns:\n",
        "    print(df[c])\n",
        "    df[c]=normMinMax(df,c)\n",
        "    print(df[c])"
      ],
      "metadata": {
        "colab": {
          "base_uri": "https://localhost:8080/"
        },
        "id": "rpyFsC2_m5zT",
        "outputId": "8ef79f23-a27d-4cf6-8904-ef0d6037017d"
      },
      "execution_count": 12,
      "outputs": [
        {
          "output_type": "stream",
          "name": "stdout",
          "text": [
            "0          8\n",
            "1          2\n",
            "2         10\n",
            "4         26\n",
            "5         23\n",
            "          ..\n",
            "318433     6\n",
            "318434    24\n",
            "318435     7\n",
            "318436    11\n",
            "318437    19\n",
            "Name: Hospital_code, Length: 286334, dtype: int64\n",
            "0         0.225806\n",
            "1         0.032258\n",
            "2         0.290323\n",
            "4         0.806452\n",
            "5         0.709677\n",
            "            ...   \n",
            "318433    0.161290\n",
            "318434    0.741935\n",
            "318435    0.193548\n",
            "318436    0.322581\n",
            "318437    0.580645\n",
            "Name: Hospital_code, Length: 286334, dtype: float64\n",
            "0         3\n",
            "1         5\n",
            "2         1\n",
            "4         2\n",
            "5         6\n",
            "         ..\n",
            "318433    6\n",
            "318434    1\n",
            "318435    4\n",
            "318436    2\n",
            "318437    7\n",
            "Name: City_Code_Hospital, Length: 286334, dtype: int64\n",
            "0         0.166667\n",
            "1         0.333333\n",
            "2         0.000000\n",
            "4         0.083333\n",
            "5         0.416667\n",
            "            ...   \n",
            "318433    0.416667\n",
            "318434    0.000000\n",
            "318435    0.250000\n",
            "318436    0.083333\n",
            "318437    0.500000\n",
            "Name: City_Code_Hospital, Length: 286334, dtype: float64\n",
            "0         3\n",
            "1         2\n",
            "2         2\n",
            "4         2\n",
            "5         2\n",
            "         ..\n",
            "318433    3\n",
            "318434    2\n",
            "318435    3\n",
            "318436    3\n",
            "318437    5\n",
            "Name: Available Extra Rooms in Hospital, Length: 286334, dtype: int64\n",
            "0         0.500000\n",
            "1         0.333333\n",
            "2         0.333333\n",
            "4         0.333333\n",
            "5         0.333333\n",
            "            ...   \n",
            "318433    0.500000\n",
            "318434    0.333333\n",
            "318435    0.500000\n",
            "318436    0.500000\n",
            "318437    0.833333\n",
            "Name: Available Extra Rooms in Hospital, Length: 286334, dtype: float64\n",
            "0         2.0\n",
            "1         2.0\n",
            "2         2.0\n",
            "4         2.0\n",
            "5         2.0\n",
            "         ... \n",
            "318433    4.0\n",
            "318434    4.0\n",
            "318435    4.0\n",
            "318436    3.0\n",
            "318437    2.0\n",
            "Name: Bed Grade, Length: 286334, dtype: float64\n",
            "0         0.333333\n",
            "1         0.333333\n",
            "2         0.333333\n",
            "4         0.333333\n",
            "5         0.333333\n",
            "            ...   \n",
            "318433    1.000000\n",
            "318434    1.000000\n",
            "318435    1.000000\n",
            "318436    0.666667\n",
            "318437    0.333333\n",
            "Name: Bed Grade, Length: 286334, dtype: float64\n",
            "0          7.0\n",
            "1          7.0\n",
            "2          7.0\n",
            "4          7.0\n",
            "5          7.0\n",
            "          ... \n",
            "318433    23.0\n",
            "318434     8.0\n",
            "318435    10.0\n",
            "318436     8.0\n",
            "318437     8.0\n",
            "Name: City_Code_Patient, Length: 286334, dtype: float64\n",
            "0         0.162162\n",
            "1         0.162162\n",
            "2         0.162162\n",
            "4         0.162162\n",
            "5         0.162162\n",
            "            ...   \n",
            "318433    0.594595\n",
            "318434    0.189189\n",
            "318435    0.243243\n",
            "318436    0.189189\n",
            "318437    0.189189\n",
            "Name: City_Code_Patient, Length: 286334, dtype: float64\n",
            "0         2\n",
            "1         2\n",
            "2         2\n",
            "4         2\n",
            "5         2\n",
            "         ..\n",
            "318433    3\n",
            "318434    4\n",
            "318435    3\n",
            "318436    5\n",
            "318437    2\n",
            "Name: Visitors with Patient, Length: 286334, dtype: int64\n",
            "0         0.333333\n",
            "1         0.333333\n",
            "2         0.333333\n",
            "4         0.333333\n",
            "5         0.333333\n",
            "            ...   \n",
            "318433    0.500000\n",
            "318434    0.666667\n",
            "318435    0.500000\n",
            "318436    0.833333\n",
            "318437    0.333333\n",
            "Name: Visitors with Patient, Length: 286334, dtype: float64\n",
            "0         4911.0\n",
            "1         5954.0\n",
            "2         4745.0\n",
            "4         5558.0\n",
            "5         4449.0\n",
            "           ...  \n",
            "318433    4144.0\n",
            "318434    6699.0\n",
            "318435    4235.0\n",
            "318436    3761.0\n",
            "318437    4752.0\n",
            "Name: Admission_Deposit, Length: 286334, dtype: float64\n",
            "0         0.518341\n",
            "1         0.735723\n",
            "2         0.483743\n",
            "4         0.653189\n",
            "5         0.422051\n",
            "            ...   \n",
            "318433    0.358483\n",
            "318434    0.890996\n",
            "318435    0.377449\n",
            "318436    0.278658\n",
            "318437    0.485202\n",
            "Name: Admission_Deposit, Length: 286334, dtype: float64\n"
          ]
        }
      ]
    },
    {
      "cell_type": "code",
      "source": [
        "nominal_features = ['Hospital_type_code','Hospital_region_code','Department','Ward_Type','Ward_Facility_Code','Type of Admission']\n",
        "ordinal_features = ['Severity of Illness','Age']"
      ],
      "metadata": {
        "id": "HRYLsNt4m8Td"
      },
      "execution_count": 13,
      "outputs": []
    },
    {
      "cell_type": "code",
      "source": [
        "# One-Hot encoding of Nominal Features!\n",
        "\n",
        "def one_hot_encode(dataset,features):\n",
        "    nominal_df = dataset[features]\n",
        "\n",
        "    # convert into dummies\n",
        "    nominal_dummies = pd.get_dummies(nominal_df, drop_first=False)\n",
        "    # drop categorical variables \n",
        "    dataset = dataset.drop(list(nominal_df.columns), axis=1)\n",
        "    # concat dummy variables with X\n",
        "    dataset = pd.concat([dataset, nominal_dummies], axis=1)\n",
        "    return dataset\n",
        "\n",
        "de_1_df = one_hot_encode(df,nominal_features)\n",
        "de_1_df.head()\n"
      ],
      "metadata": {
        "colab": {
          "base_uri": "https://localhost:8080/",
          "height": 438
        },
        "id": "4yqKvCERm-R9",
        "outputId": "0da80c80-294b-41a9-98ff-b9c8802f0490"
      },
      "execution_count": 14,
      "outputs": [
        {
          "output_type": "execute_result",
          "data": {
            "text/plain": [
              "   Hospital_code  City_Code_Hospital  Available Extra Rooms in Hospital  \\\n",
              "0       0.225806            0.166667                           0.500000   \n",
              "1       0.032258            0.333333                           0.333333   \n",
              "2       0.290323            0.000000                           0.333333   \n",
              "4       0.806452            0.083333                           0.333333   \n",
              "5       0.709677            0.416667                           0.333333   \n",
              "\n",
              "   Bed Grade  City_Code_Patient Severity of Illness  Visitors with Patient  \\\n",
              "0   0.333333           0.162162             Extreme               0.333333   \n",
              "1   0.333333           0.162162             Extreme               0.333333   \n",
              "2   0.333333           0.162162             Extreme               0.333333   \n",
              "4   0.333333           0.162162             Extreme               0.333333   \n",
              "5   0.333333           0.162162             Extreme               0.333333   \n",
              "\n",
              "     Age  Admission_Deposit   Stay  ...  Ward_Type_U  Ward_Facility_Code_A  \\\n",
              "0  51-60           0.518341   0-10  ...            0                     0   \n",
              "1  51-60           0.735723  41-50  ...            0                     0   \n",
              "2  51-60           0.483743  31-40  ...            0                     0   \n",
              "4  51-60           0.653189  41-50  ...            0                     0   \n",
              "5  51-60           0.422051  11-20  ...            0                     0   \n",
              "\n",
              "   Ward_Facility_Code_B  Ward_Facility_Code_C  Ward_Facility_Code_D  \\\n",
              "0                     0                     0                     0   \n",
              "1                     0                     0                     0   \n",
              "2                     0                     0                     0   \n",
              "4                     0                     0                     1   \n",
              "5                     0                     0                     0   \n",
              "\n",
              "   Ward_Facility_Code_E  Ward_Facility_Code_F  Type of Admission_Emergency  \\\n",
              "0                     0                     1                            1   \n",
              "1                     0                     1                            0   \n",
              "2                     1                     0                            0   \n",
              "4                     0                     0                            0   \n",
              "5                     0                     1                            0   \n",
              "\n",
              "   Type of Admission_Trauma  Type of Admission_Urgent  \n",
              "0                         0                         0  \n",
              "1                         1                         0  \n",
              "2                         1                         0  \n",
              "4                         1                         0  \n",
              "5                         1                         0  \n",
              "\n",
              "[5 rows x 40 columns]"
            ],
            "text/html": [
              "\n",
              "  <div id=\"df-0bd915a9-900a-4ae5-8f23-4025031b556e\">\n",
              "    <div class=\"colab-df-container\">\n",
              "      <div>\n",
              "<style scoped>\n",
              "    .dataframe tbody tr th:only-of-type {\n",
              "        vertical-align: middle;\n",
              "    }\n",
              "\n",
              "    .dataframe tbody tr th {\n",
              "        vertical-align: top;\n",
              "    }\n",
              "\n",
              "    .dataframe thead th {\n",
              "        text-align: right;\n",
              "    }\n",
              "</style>\n",
              "<table border=\"1\" class=\"dataframe\">\n",
              "  <thead>\n",
              "    <tr style=\"text-align: right;\">\n",
              "      <th></th>\n",
              "      <th>Hospital_code</th>\n",
              "      <th>City_Code_Hospital</th>\n",
              "      <th>Available Extra Rooms in Hospital</th>\n",
              "      <th>Bed Grade</th>\n",
              "      <th>City_Code_Patient</th>\n",
              "      <th>Severity of Illness</th>\n",
              "      <th>Visitors with Patient</th>\n",
              "      <th>Age</th>\n",
              "      <th>Admission_Deposit</th>\n",
              "      <th>Stay</th>\n",
              "      <th>...</th>\n",
              "      <th>Ward_Type_U</th>\n",
              "      <th>Ward_Facility_Code_A</th>\n",
              "      <th>Ward_Facility_Code_B</th>\n",
              "      <th>Ward_Facility_Code_C</th>\n",
              "      <th>Ward_Facility_Code_D</th>\n",
              "      <th>Ward_Facility_Code_E</th>\n",
              "      <th>Ward_Facility_Code_F</th>\n",
              "      <th>Type of Admission_Emergency</th>\n",
              "      <th>Type of Admission_Trauma</th>\n",
              "      <th>Type of Admission_Urgent</th>\n",
              "    </tr>\n",
              "  </thead>\n",
              "  <tbody>\n",
              "    <tr>\n",
              "      <th>0</th>\n",
              "      <td>0.225806</td>\n",
              "      <td>0.166667</td>\n",
              "      <td>0.500000</td>\n",
              "      <td>0.333333</td>\n",
              "      <td>0.162162</td>\n",
              "      <td>Extreme</td>\n",
              "      <td>0.333333</td>\n",
              "      <td>51-60</td>\n",
              "      <td>0.518341</td>\n",
              "      <td>0-10</td>\n",
              "      <td>...</td>\n",
              "      <td>0</td>\n",
              "      <td>0</td>\n",
              "      <td>0</td>\n",
              "      <td>0</td>\n",
              "      <td>0</td>\n",
              "      <td>0</td>\n",
              "      <td>1</td>\n",
              "      <td>1</td>\n",
              "      <td>0</td>\n",
              "      <td>0</td>\n",
              "    </tr>\n",
              "    <tr>\n",
              "      <th>1</th>\n",
              "      <td>0.032258</td>\n",
              "      <td>0.333333</td>\n",
              "      <td>0.333333</td>\n",
              "      <td>0.333333</td>\n",
              "      <td>0.162162</td>\n",
              "      <td>Extreme</td>\n",
              "      <td>0.333333</td>\n",
              "      <td>51-60</td>\n",
              "      <td>0.735723</td>\n",
              "      <td>41-50</td>\n",
              "      <td>...</td>\n",
              "      <td>0</td>\n",
              "      <td>0</td>\n",
              "      <td>0</td>\n",
              "      <td>0</td>\n",
              "      <td>0</td>\n",
              "      <td>0</td>\n",
              "      <td>1</td>\n",
              "      <td>0</td>\n",
              "      <td>1</td>\n",
              "      <td>0</td>\n",
              "    </tr>\n",
              "    <tr>\n",
              "      <th>2</th>\n",
              "      <td>0.290323</td>\n",
              "      <td>0.000000</td>\n",
              "      <td>0.333333</td>\n",
              "      <td>0.333333</td>\n",
              "      <td>0.162162</td>\n",
              "      <td>Extreme</td>\n",
              "      <td>0.333333</td>\n",
              "      <td>51-60</td>\n",
              "      <td>0.483743</td>\n",
              "      <td>31-40</td>\n",
              "      <td>...</td>\n",
              "      <td>0</td>\n",
              "      <td>0</td>\n",
              "      <td>0</td>\n",
              "      <td>0</td>\n",
              "      <td>0</td>\n",
              "      <td>1</td>\n",
              "      <td>0</td>\n",
              "      <td>0</td>\n",
              "      <td>1</td>\n",
              "      <td>0</td>\n",
              "    </tr>\n",
              "    <tr>\n",
              "      <th>4</th>\n",
              "      <td>0.806452</td>\n",
              "      <td>0.083333</td>\n",
              "      <td>0.333333</td>\n",
              "      <td>0.333333</td>\n",
              "      <td>0.162162</td>\n",
              "      <td>Extreme</td>\n",
              "      <td>0.333333</td>\n",
              "      <td>51-60</td>\n",
              "      <td>0.653189</td>\n",
              "      <td>41-50</td>\n",
              "      <td>...</td>\n",
              "      <td>0</td>\n",
              "      <td>0</td>\n",
              "      <td>0</td>\n",
              "      <td>0</td>\n",
              "      <td>1</td>\n",
              "      <td>0</td>\n",
              "      <td>0</td>\n",
              "      <td>0</td>\n",
              "      <td>1</td>\n",
              "      <td>0</td>\n",
              "    </tr>\n",
              "    <tr>\n",
              "      <th>5</th>\n",
              "      <td>0.709677</td>\n",
              "      <td>0.416667</td>\n",
              "      <td>0.333333</td>\n",
              "      <td>0.333333</td>\n",
              "      <td>0.162162</td>\n",
              "      <td>Extreme</td>\n",
              "      <td>0.333333</td>\n",
              "      <td>51-60</td>\n",
              "      <td>0.422051</td>\n",
              "      <td>11-20</td>\n",
              "      <td>...</td>\n",
              "      <td>0</td>\n",
              "      <td>0</td>\n",
              "      <td>0</td>\n",
              "      <td>0</td>\n",
              "      <td>0</td>\n",
              "      <td>0</td>\n",
              "      <td>1</td>\n",
              "      <td>0</td>\n",
              "      <td>1</td>\n",
              "      <td>0</td>\n",
              "    </tr>\n",
              "  </tbody>\n",
              "</table>\n",
              "<p>5 rows × 40 columns</p>\n",
              "</div>\n",
              "      <button class=\"colab-df-convert\" onclick=\"convertToInteractive('df-0bd915a9-900a-4ae5-8f23-4025031b556e')\"\n",
              "              title=\"Convert this dataframe to an interactive table.\"\n",
              "              style=\"display:none;\">\n",
              "        \n",
              "  <svg xmlns=\"http://www.w3.org/2000/svg\" height=\"24px\"viewBox=\"0 0 24 24\"\n",
              "       width=\"24px\">\n",
              "    <path d=\"M0 0h24v24H0V0z\" fill=\"none\"/>\n",
              "    <path d=\"M18.56 5.44l.94 2.06.94-2.06 2.06-.94-2.06-.94-.94-2.06-.94 2.06-2.06.94zm-11 1L8.5 8.5l.94-2.06 2.06-.94-2.06-.94L8.5 2.5l-.94 2.06-2.06.94zm10 10l.94 2.06.94-2.06 2.06-.94-2.06-.94-.94-2.06-.94 2.06-2.06.94z\"/><path d=\"M17.41 7.96l-1.37-1.37c-.4-.4-.92-.59-1.43-.59-.52 0-1.04.2-1.43.59L10.3 9.45l-7.72 7.72c-.78.78-.78 2.05 0 2.83L4 21.41c.39.39.9.59 1.41.59.51 0 1.02-.2 1.41-.59l7.78-7.78 2.81-2.81c.8-.78.8-2.07 0-2.86zM5.41 20L4 18.59l7.72-7.72 1.47 1.35L5.41 20z\"/>\n",
              "  </svg>\n",
              "      </button>\n",
              "      \n",
              "  <style>\n",
              "    .colab-df-container {\n",
              "      display:flex;\n",
              "      flex-wrap:wrap;\n",
              "      gap: 12px;\n",
              "    }\n",
              "\n",
              "    .colab-df-convert {\n",
              "      background-color: #E8F0FE;\n",
              "      border: none;\n",
              "      border-radius: 50%;\n",
              "      cursor: pointer;\n",
              "      display: none;\n",
              "      fill: #1967D2;\n",
              "      height: 32px;\n",
              "      padding: 0 0 0 0;\n",
              "      width: 32px;\n",
              "    }\n",
              "\n",
              "    .colab-df-convert:hover {\n",
              "      background-color: #E2EBFA;\n",
              "      box-shadow: 0px 1px 2px rgba(60, 64, 67, 0.3), 0px 1px 3px 1px rgba(60, 64, 67, 0.15);\n",
              "      fill: #174EA6;\n",
              "    }\n",
              "\n",
              "    [theme=dark] .colab-df-convert {\n",
              "      background-color: #3B4455;\n",
              "      fill: #D2E3FC;\n",
              "    }\n",
              "\n",
              "    [theme=dark] .colab-df-convert:hover {\n",
              "      background-color: #434B5C;\n",
              "      box-shadow: 0px 1px 3px 1px rgba(0, 0, 0, 0.15);\n",
              "      filter: drop-shadow(0px 1px 2px rgba(0, 0, 0, 0.3));\n",
              "      fill: #FFFFFF;\n",
              "    }\n",
              "  </style>\n",
              "\n",
              "      <script>\n",
              "        const buttonEl =\n",
              "          document.querySelector('#df-0bd915a9-900a-4ae5-8f23-4025031b556e button.colab-df-convert');\n",
              "        buttonEl.style.display =\n",
              "          google.colab.kernel.accessAllowed ? 'block' : 'none';\n",
              "\n",
              "        async function convertToInteractive(key) {\n",
              "          const element = document.querySelector('#df-0bd915a9-900a-4ae5-8f23-4025031b556e');\n",
              "          const dataTable =\n",
              "            await google.colab.kernel.invokeFunction('convertToInteractive',\n",
              "                                                     [key], {});\n",
              "          if (!dataTable) return;\n",
              "\n",
              "          const docLinkHtml = 'Like what you see? Visit the ' +\n",
              "            '<a target=\"_blank\" href=https://colab.research.google.com/notebooks/data_table.ipynb>data table notebook</a>'\n",
              "            + ' to learn more about interactive tables.';\n",
              "          element.innerHTML = '';\n",
              "          dataTable['output_type'] = 'display_data';\n",
              "          await google.colab.output.renderOutput(dataTable, element);\n",
              "          const docLink = document.createElement('div');\n",
              "          docLink.innerHTML = docLinkHtml;\n",
              "          element.appendChild(docLink);\n",
              "        }\n",
              "      </script>\n",
              "    </div>\n",
              "  </div>\n",
              "  "
            ]
          },
          "metadata": {},
          "execution_count": 14
        }
      ]
    },
    {
      "cell_type": "code",
      "source": [
        "from sklearn.preprocessing import OrdinalEncoder\n",
        "\n",
        "ordinal = OrdinalEncoder()\n",
        "ordinal_series_sev = ordinal.fit_transform(de_1_df[['Severity of Illness']])\n",
        "ordinal_series_age = ordinal.fit_transform(de_1_df[['Age']])\n",
        "de_2_df = de_1_df.drop(columns= ordinal_features)\n",
        "de_2_df['Severity of Illness'] = ordinal_series_sev\n",
        "de_2_df['Age'] = ordinal_series_age"
      ],
      "metadata": {
        "id": "OtEMhnYxnA08"
      },
      "execution_count": 15,
      "outputs": []
    },
    {
      "cell_type": "code",
      "source": [
        "de_2_df.head()"
      ],
      "metadata": {
        "colab": {
          "base_uri": "https://localhost:8080/",
          "height": 421
        },
        "id": "sVn8bKpJnC4c",
        "outputId": "1eff246b-f07d-49f1-977c-4e7bc1906db4"
      },
      "execution_count": 16,
      "outputs": [
        {
          "output_type": "execute_result",
          "data": {
            "text/plain": [
              "   Hospital_code  City_Code_Hospital  Available Extra Rooms in Hospital  \\\n",
              "0       0.225806            0.166667                           0.500000   \n",
              "1       0.032258            0.333333                           0.333333   \n",
              "2       0.290323            0.000000                           0.333333   \n",
              "4       0.806452            0.083333                           0.333333   \n",
              "5       0.709677            0.416667                           0.333333   \n",
              "\n",
              "   Bed Grade  City_Code_Patient  Visitors with Patient  Admission_Deposit  \\\n",
              "0   0.333333           0.162162               0.333333           0.518341   \n",
              "1   0.333333           0.162162               0.333333           0.735723   \n",
              "2   0.333333           0.162162               0.333333           0.483743   \n",
              "4   0.333333           0.162162               0.333333           0.653189   \n",
              "5   0.333333           0.162162               0.333333           0.422051   \n",
              "\n",
              "    Stay  Hospital_type_code_a  Hospital_type_code_b  ...  \\\n",
              "0   0-10                     0                     0  ...   \n",
              "1  41-50                     0                     0  ...   \n",
              "2  31-40                     0                     0  ...   \n",
              "4  41-50                     0                     1  ...   \n",
              "5  11-20                     1                     0  ...   \n",
              "\n",
              "   Ward_Facility_Code_B  Ward_Facility_Code_C  Ward_Facility_Code_D  \\\n",
              "0                     0                     0                     0   \n",
              "1                     0                     0                     0   \n",
              "2                     0                     0                     0   \n",
              "4                     0                     0                     1   \n",
              "5                     0                     0                     0   \n",
              "\n",
              "   Ward_Facility_Code_E  Ward_Facility_Code_F  Type of Admission_Emergency  \\\n",
              "0                     0                     1                            1   \n",
              "1                     0                     1                            0   \n",
              "2                     1                     0                            0   \n",
              "4                     0                     0                            0   \n",
              "5                     0                     1                            0   \n",
              "\n",
              "   Type of Admission_Trauma  Type of Admission_Urgent  Severity of Illness  \\\n",
              "0                         0                         0                  0.0   \n",
              "1                         1                         0                  0.0   \n",
              "2                         1                         0                  0.0   \n",
              "4                         1                         0                  0.0   \n",
              "5                         1                         0                  0.0   \n",
              "\n",
              "   Age  \n",
              "0  5.0  \n",
              "1  5.0  \n",
              "2  5.0  \n",
              "4  5.0  \n",
              "5  5.0  \n",
              "\n",
              "[5 rows x 40 columns]"
            ],
            "text/html": [
              "\n",
              "  <div id=\"df-7f37ee02-d2a9-470e-a03e-0699e3a228b6\">\n",
              "    <div class=\"colab-df-container\">\n",
              "      <div>\n",
              "<style scoped>\n",
              "    .dataframe tbody tr th:only-of-type {\n",
              "        vertical-align: middle;\n",
              "    }\n",
              "\n",
              "    .dataframe tbody tr th {\n",
              "        vertical-align: top;\n",
              "    }\n",
              "\n",
              "    .dataframe thead th {\n",
              "        text-align: right;\n",
              "    }\n",
              "</style>\n",
              "<table border=\"1\" class=\"dataframe\">\n",
              "  <thead>\n",
              "    <tr style=\"text-align: right;\">\n",
              "      <th></th>\n",
              "      <th>Hospital_code</th>\n",
              "      <th>City_Code_Hospital</th>\n",
              "      <th>Available Extra Rooms in Hospital</th>\n",
              "      <th>Bed Grade</th>\n",
              "      <th>City_Code_Patient</th>\n",
              "      <th>Visitors with Patient</th>\n",
              "      <th>Admission_Deposit</th>\n",
              "      <th>Stay</th>\n",
              "      <th>Hospital_type_code_a</th>\n",
              "      <th>Hospital_type_code_b</th>\n",
              "      <th>...</th>\n",
              "      <th>Ward_Facility_Code_B</th>\n",
              "      <th>Ward_Facility_Code_C</th>\n",
              "      <th>Ward_Facility_Code_D</th>\n",
              "      <th>Ward_Facility_Code_E</th>\n",
              "      <th>Ward_Facility_Code_F</th>\n",
              "      <th>Type of Admission_Emergency</th>\n",
              "      <th>Type of Admission_Trauma</th>\n",
              "      <th>Type of Admission_Urgent</th>\n",
              "      <th>Severity of Illness</th>\n",
              "      <th>Age</th>\n",
              "    </tr>\n",
              "  </thead>\n",
              "  <tbody>\n",
              "    <tr>\n",
              "      <th>0</th>\n",
              "      <td>0.225806</td>\n",
              "      <td>0.166667</td>\n",
              "      <td>0.500000</td>\n",
              "      <td>0.333333</td>\n",
              "      <td>0.162162</td>\n",
              "      <td>0.333333</td>\n",
              "      <td>0.518341</td>\n",
              "      <td>0-10</td>\n",
              "      <td>0</td>\n",
              "      <td>0</td>\n",
              "      <td>...</td>\n",
              "      <td>0</td>\n",
              "      <td>0</td>\n",
              "      <td>0</td>\n",
              "      <td>0</td>\n",
              "      <td>1</td>\n",
              "      <td>1</td>\n",
              "      <td>0</td>\n",
              "      <td>0</td>\n",
              "      <td>0.0</td>\n",
              "      <td>5.0</td>\n",
              "    </tr>\n",
              "    <tr>\n",
              "      <th>1</th>\n",
              "      <td>0.032258</td>\n",
              "      <td>0.333333</td>\n",
              "      <td>0.333333</td>\n",
              "      <td>0.333333</td>\n",
              "      <td>0.162162</td>\n",
              "      <td>0.333333</td>\n",
              "      <td>0.735723</td>\n",
              "      <td>41-50</td>\n",
              "      <td>0</td>\n",
              "      <td>0</td>\n",
              "      <td>...</td>\n",
              "      <td>0</td>\n",
              "      <td>0</td>\n",
              "      <td>0</td>\n",
              "      <td>0</td>\n",
              "      <td>1</td>\n",
              "      <td>0</td>\n",
              "      <td>1</td>\n",
              "      <td>0</td>\n",
              "      <td>0.0</td>\n",
              "      <td>5.0</td>\n",
              "    </tr>\n",
              "    <tr>\n",
              "      <th>2</th>\n",
              "      <td>0.290323</td>\n",
              "      <td>0.000000</td>\n",
              "      <td>0.333333</td>\n",
              "      <td>0.333333</td>\n",
              "      <td>0.162162</td>\n",
              "      <td>0.333333</td>\n",
              "      <td>0.483743</td>\n",
              "      <td>31-40</td>\n",
              "      <td>0</td>\n",
              "      <td>0</td>\n",
              "      <td>...</td>\n",
              "      <td>0</td>\n",
              "      <td>0</td>\n",
              "      <td>0</td>\n",
              "      <td>1</td>\n",
              "      <td>0</td>\n",
              "      <td>0</td>\n",
              "      <td>1</td>\n",
              "      <td>0</td>\n",
              "      <td>0.0</td>\n",
              "      <td>5.0</td>\n",
              "    </tr>\n",
              "    <tr>\n",
              "      <th>4</th>\n",
              "      <td>0.806452</td>\n",
              "      <td>0.083333</td>\n",
              "      <td>0.333333</td>\n",
              "      <td>0.333333</td>\n",
              "      <td>0.162162</td>\n",
              "      <td>0.333333</td>\n",
              "      <td>0.653189</td>\n",
              "      <td>41-50</td>\n",
              "      <td>0</td>\n",
              "      <td>1</td>\n",
              "      <td>...</td>\n",
              "      <td>0</td>\n",
              "      <td>0</td>\n",
              "      <td>1</td>\n",
              "      <td>0</td>\n",
              "      <td>0</td>\n",
              "      <td>0</td>\n",
              "      <td>1</td>\n",
              "      <td>0</td>\n",
              "      <td>0.0</td>\n",
              "      <td>5.0</td>\n",
              "    </tr>\n",
              "    <tr>\n",
              "      <th>5</th>\n",
              "      <td>0.709677</td>\n",
              "      <td>0.416667</td>\n",
              "      <td>0.333333</td>\n",
              "      <td>0.333333</td>\n",
              "      <td>0.162162</td>\n",
              "      <td>0.333333</td>\n",
              "      <td>0.422051</td>\n",
              "      <td>11-20</td>\n",
              "      <td>1</td>\n",
              "      <td>0</td>\n",
              "      <td>...</td>\n",
              "      <td>0</td>\n",
              "      <td>0</td>\n",
              "      <td>0</td>\n",
              "      <td>0</td>\n",
              "      <td>1</td>\n",
              "      <td>0</td>\n",
              "      <td>1</td>\n",
              "      <td>0</td>\n",
              "      <td>0.0</td>\n",
              "      <td>5.0</td>\n",
              "    </tr>\n",
              "  </tbody>\n",
              "</table>\n",
              "<p>5 rows × 40 columns</p>\n",
              "</div>\n",
              "      <button class=\"colab-df-convert\" onclick=\"convertToInteractive('df-7f37ee02-d2a9-470e-a03e-0699e3a228b6')\"\n",
              "              title=\"Convert this dataframe to an interactive table.\"\n",
              "              style=\"display:none;\">\n",
              "        \n",
              "  <svg xmlns=\"http://www.w3.org/2000/svg\" height=\"24px\"viewBox=\"0 0 24 24\"\n",
              "       width=\"24px\">\n",
              "    <path d=\"M0 0h24v24H0V0z\" fill=\"none\"/>\n",
              "    <path d=\"M18.56 5.44l.94 2.06.94-2.06 2.06-.94-2.06-.94-.94-2.06-.94 2.06-2.06.94zm-11 1L8.5 8.5l.94-2.06 2.06-.94-2.06-.94L8.5 2.5l-.94 2.06-2.06.94zm10 10l.94 2.06.94-2.06 2.06-.94-2.06-.94-.94-2.06-.94 2.06-2.06.94z\"/><path d=\"M17.41 7.96l-1.37-1.37c-.4-.4-.92-.59-1.43-.59-.52 0-1.04.2-1.43.59L10.3 9.45l-7.72 7.72c-.78.78-.78 2.05 0 2.83L4 21.41c.39.39.9.59 1.41.59.51 0 1.02-.2 1.41-.59l7.78-7.78 2.81-2.81c.8-.78.8-2.07 0-2.86zM5.41 20L4 18.59l7.72-7.72 1.47 1.35L5.41 20z\"/>\n",
              "  </svg>\n",
              "      </button>\n",
              "      \n",
              "  <style>\n",
              "    .colab-df-container {\n",
              "      display:flex;\n",
              "      flex-wrap:wrap;\n",
              "      gap: 12px;\n",
              "    }\n",
              "\n",
              "    .colab-df-convert {\n",
              "      background-color: #E8F0FE;\n",
              "      border: none;\n",
              "      border-radius: 50%;\n",
              "      cursor: pointer;\n",
              "      display: none;\n",
              "      fill: #1967D2;\n",
              "      height: 32px;\n",
              "      padding: 0 0 0 0;\n",
              "      width: 32px;\n",
              "    }\n",
              "\n",
              "    .colab-df-convert:hover {\n",
              "      background-color: #E2EBFA;\n",
              "      box-shadow: 0px 1px 2px rgba(60, 64, 67, 0.3), 0px 1px 3px 1px rgba(60, 64, 67, 0.15);\n",
              "      fill: #174EA6;\n",
              "    }\n",
              "\n",
              "    [theme=dark] .colab-df-convert {\n",
              "      background-color: #3B4455;\n",
              "      fill: #D2E3FC;\n",
              "    }\n",
              "\n",
              "    [theme=dark] .colab-df-convert:hover {\n",
              "      background-color: #434B5C;\n",
              "      box-shadow: 0px 1px 3px 1px rgba(0, 0, 0, 0.15);\n",
              "      filter: drop-shadow(0px 1px 2px rgba(0, 0, 0, 0.3));\n",
              "      fill: #FFFFFF;\n",
              "    }\n",
              "  </style>\n",
              "\n",
              "      <script>\n",
              "        const buttonEl =\n",
              "          document.querySelector('#df-7f37ee02-d2a9-470e-a03e-0699e3a228b6 button.colab-df-convert');\n",
              "        buttonEl.style.display =\n",
              "          google.colab.kernel.accessAllowed ? 'block' : 'none';\n",
              "\n",
              "        async function convertToInteractive(key) {\n",
              "          const element = document.querySelector('#df-7f37ee02-d2a9-470e-a03e-0699e3a228b6');\n",
              "          const dataTable =\n",
              "            await google.colab.kernel.invokeFunction('convertToInteractive',\n",
              "                                                     [key], {});\n",
              "          if (!dataTable) return;\n",
              "\n",
              "          const docLinkHtml = 'Like what you see? Visit the ' +\n",
              "            '<a target=\"_blank\" href=https://colab.research.google.com/notebooks/data_table.ipynb>data table notebook</a>'\n",
              "            + ' to learn more about interactive tables.';\n",
              "          element.innerHTML = '';\n",
              "          dataTable['output_type'] = 'display_data';\n",
              "          await google.colab.output.renderOutput(dataTable, element);\n",
              "          const docLink = document.createElement('div');\n",
              "          docLink.innerHTML = docLinkHtml;\n",
              "          element.appendChild(docLink);\n",
              "        }\n",
              "      </script>\n",
              "    </div>\n",
              "  </div>\n",
              "  "
            ]
          },
          "metadata": {},
          "execution_count": 16
        }
      ]
    },
    {
      "cell_type": "code",
      "source": [
        "from sklearn.preprocessing import LabelEncoder\n",
        "LabelEncode = LabelEncoder()\n",
        "de_2_df['Stay'] = LabelEncode.fit_transform(de_2_df['Stay'])\n",
        "de_2_df.Stay.value_counts(sort=True)"
      ],
      "metadata": {
        "colab": {
          "base_uri": "https://localhost:8080/"
        },
        "id": "MrzC85LenLI6",
        "outputId": "d8b766e9-6a9a-4115-fcf9-83bb99e66bfd"
      },
      "execution_count": 17,
      "outputs": [
        {
          "output_type": "execute_result",
          "data": {
            "text/plain": [
              "2     81371\n",
              "1     73197\n",
              "3     50091\n",
              "5     30224\n",
              "0     22216\n",
              "4     10660\n",
              "7      8046\n",
              "8      3238\n",
              "10     2922\n",
              "6      2325\n",
              "9      2044\n",
              "Name: Stay, dtype: int64"
            ]
          },
          "metadata": {},
          "execution_count": 17
        }
      ]
    },
    {
      "cell_type": "code",
      "source": [
        "X = de_2_df.drop(columns= ['Stay'])\n",
        "y = de_2_df[['Stay']]\n"
      ],
      "metadata": {
        "id": "KlG11A3LnOj9"
      },
      "execution_count": 18,
      "outputs": []
    },
    {
      "cell_type": "code",
      "source": [
        "from sklearn.model_selection import train_test_split\n",
        "X_train, X_test, y_train, y_test = train_test_split(X, y, \n",
        "                                                    train_size=0.8,\n",
        "                                                    test_size = 0.2, random_state=42)"
      ],
      "metadata": {
        "id": "5j0K30KsnVaQ"
      },
      "execution_count": 19,
      "outputs": []
    },
    {
      "cell_type": "code",
      "source": [
        "from imblearn.over_sampling import SMOTE\n",
        "print(y.shape[0])\n",
        "oversample = SMOTE()\n",
        "X_sampled, y_sampled = oversample.fit_resample(X_train, y_train)\n",
        "print(y_sampled.value_counts())\n",
        "print('increased= ',y_sampled.shape[0]-y.shape[0])"
      ],
      "metadata": {
        "colab": {
          "base_uri": "https://localhost:8080/"
        },
        "id": "GjiYxuuInYfN",
        "outputId": "8114056b-e22b-4493-9a88-cf5320ad6f67"
      },
      "execution_count": 20,
      "outputs": [
        {
          "output_type": "stream",
          "name": "stdout",
          "text": [
            "286334\n",
            "Stay\n",
            "0       65256\n",
            "1       65256\n",
            "2       65256\n",
            "3       65256\n",
            "4       65256\n",
            "5       65256\n",
            "6       65256\n",
            "7       65256\n",
            "8       65256\n",
            "9       65256\n",
            "10      65256\n",
            "dtype: int64\n",
            "increased=  431482\n"
          ]
        }
      ]
    },
    {
      "cell_type": "code",
      "source": [
        "import time\n",
        "## Grid search on all parameters took infinite time to run:) so by research and studing the docmentation we conclude that these are the best combinations\n",
        "from sklearn.linear_model import LogisticRegression\n",
        "# from sklearn.model_selection import GridSearchCV\n",
        "logModel = LogisticRegression(penalty='l2',solver='newton-cg',max_iter=10000,n_jobs=-1)\n",
        "t1 = time.perf_counter()\n",
        "logModel.fit(X_train, y_train.values.ravel())\n",
        "t2 = time.perf_counter()\n",
        "print('time', t2-t1)\n",
        "####\n",
        "print (f'Accuracy - : {logModel.score(X_test,y_test):.3f}')"
      ],
      "metadata": {
        "colab": {
          "base_uri": "https://localhost:8080/"
        },
        "id": "Y6YH7KZDxDpy",
        "outputId": "b18244b3-eb67-4fbd-ca87-dba87606fb5f"
      },
      "execution_count": 28,
      "outputs": [
        {
          "output_type": "stream",
          "name": "stderr",
          "text": [
            "/usr/local/lib/python3.7/dist-packages/sklearn/utils/validation.py:993: DataConversionWarning: A column-vector y was passed when a 1d array was expected. Please change the shape of y to (n_samples, ), for example using ravel().\n",
            "  y = column_or_1d(y, warn=True)\n"
          ]
        },
        {
          "output_type": "stream",
          "name": "stdout",
          "text": [
            "time 667.8699520449999\n",
            "Accuracy - : 0.391\n"
          ]
        }
      ]
    },
    {
      "cell_type": "code",
      "source": [
        "import time\n",
        "## Grid search on all parameters took infinite time to run:) so by research and studing the docmentation we conclude that these are the best combinations\n",
        "from sklearn.linear_model import LogisticRegression\n",
        "# from sklearn.model_selection import GridSearchCV\n",
        "logModel = LogisticRegression(penalty='l2',solver='newton-cg',max_iter=10000,n_jobs=-1)\n",
        "t1 = time.perf_counter()\n",
        "logModel.fit(X_train, y_train.values.ravel())\n",
        "t2 = time.perf_counter()\n",
        "print('time', t2-t1)\n",
        "####\n",
        "print (f'Accuracy - : {logModel.score(X_test,y_test):.3f}')"
      ],
      "metadata": {
        "colab": {
          "base_uri": "https://localhost:8080/"
        },
        "id": "9Deh9xX9ndE3",
        "outputId": "eb8df67c-9e16-4e59-c3e2-faf3302e9985"
      },
      "execution_count": 29,
      "outputs": [
        {
          "output_type": "stream",
          "name": "stderr",
          "text": [
            "/usr/local/lib/python3.7/dist-packages/sklearn/utils/validation.py:993: DataConversionWarning: A column-vector y was passed when a 1d array was expected. Please change the shape of y to (n_samples, ), for example using ravel().\n",
            "  y = column_or_1d(y, warn=True)\n"
          ]
        },
        {
          "output_type": "stream",
          "name": "stdout",
          "text": [
            "time 664.1538736570001\n",
            "Accuracy - : 0.391\n"
          ]
        }
      ]
    },
    {
      "cell_type": "code",
      "source": [
        "## Grid search on all parameters took infinite time to run:) so by research and studing the docmentation we conclude that these are the best combinations\n",
        "from sklearn.linear_model import LogisticRegression\n",
        "# from sklearn.model_selection import GridSearchCV\n",
        "logModel = LogisticRegression(penalty='l2',solver='lbfgs',max_iter=10000)\n",
        "t1 = time.perf_counter()\n",
        "logModel.fit(X_train, y_train.values.ravel())\n",
        "t2 = time.perf_counter()\n",
        "print('time', t2-t1)\n",
        "####\n",
        "print (f'Accuracy - : {logModel.score(X_test,y_test):.3f}')"
      ],
      "metadata": {
        "colab": {
          "base_uri": "https://localhost:8080/"
        },
        "id": "21z1BNekngkT",
        "outputId": "fdcc7b57-913c-4bac-a619-55d6633ed316"
      },
      "execution_count": 30,
      "outputs": [
        {
          "output_type": "stream",
          "name": "stderr",
          "text": [
            "/usr/local/lib/python3.7/dist-packages/sklearn/utils/validation.py:993: DataConversionWarning: A column-vector y was passed when a 1d array was expected. Please change the shape of y to (n_samples, ), for example using ravel().\n",
            "  y = column_or_1d(y, warn=True)\n"
          ]
        },
        {
          "output_type": "stream",
          "name": "stdout",
          "text": [
            "time 526.4537968179998\n",
            "Accuracy - : 0.391\n"
          ]
        }
      ]
    },
    {
      "cell_type": "code",
      "source": [
        "## Grid search on all parameters took infinite time to run:) so by research and studing the docmentation we conclude that these are the best combinations\n",
        "from sklearn.linear_model import LogisticRegression\n",
        "# from sklearn.model_selection import GridSearchCV\n",
        "logModel7 = LogisticRegression(penalty='none',solver='lbfgs',max_iter=10000,n_jobs=-1)\n",
        "t1 = time.perf_counter()\n",
        "logModel7.fit(X_train, y_train.values.ravel())\n",
        "t2 = time.perf_counter()\n",
        "print('time', t2-t1)\n",
        "####\n",
        "print (f'Accuracy - : {logModel7.score(X_test,y_test)}')"
      ],
      "metadata": {
        "colab": {
          "base_uri": "https://localhost:8080/"
        },
        "id": "KmQUdLUZnq7X",
        "outputId": "1dc4dc15-ad19-4b6b-bead-a2ec6037f4ce"
      },
      "execution_count": 31,
      "outputs": [
        {
          "output_type": "stream",
          "name": "stderr",
          "text": [
            "/usr/local/lib/python3.7/dist-packages/sklearn/utils/validation.py:993: DataConversionWarning: A column-vector y was passed when a 1d array was expected. Please change the shape of y to (n_samples, ), for example using ravel().\n",
            "  y = column_or_1d(y, warn=True)\n"
          ]
        },
        {
          "output_type": "stream",
          "name": "stdout",
          "text": [
            "time 301.5073332799998\n",
            "Accuracy - : 0.3912375364520579\n"
          ]
        }
      ]
    },
    {
      "cell_type": "code",
      "source": [
        "## Grid search on all parameters took infinite time to run:) so by research and studing the docmentation we conclude that these are the best combinations\n",
        "from sklearn.linear_model import LogisticRegression\n",
        "# from sklearn.model_selection import GridSearchCV\n",
        "logModel3 = LogisticRegression(penalty='l2',solver='liblinear',max_iter=10000,n_jobs=-1)\n",
        "t1 = time.perf_counter()\n",
        "logModel3.fit(X_train, y_train.values.ravel())\n",
        "t2 = time.perf_counter()\n",
        "print('time', t2-t1)\n",
        "####\n",
        "print (f'Accuracy - : {logModel3.score(X_test,y_test):.3f}')"
      ],
      "metadata": {
        "colab": {
          "base_uri": "https://localhost:8080/"
        },
        "id": "fGoLJ-_Tn0_S",
        "outputId": "e90bfa59-a45e-4ea3-f6c0-ce7d26e63dfe"
      },
      "execution_count": 32,
      "outputs": [
        {
          "output_type": "stream",
          "name": "stderr",
          "text": [
            "/usr/local/lib/python3.7/dist-packages/sklearn/utils/validation.py:993: DataConversionWarning: A column-vector y was passed when a 1d array was expected. Please change the shape of y to (n_samples, ), for example using ravel().\n",
            "  y = column_or_1d(y, warn=True)\n",
            "/usr/local/lib/python3.7/dist-packages/sklearn/linear_model/_logistic.py:1526: UserWarning: 'n_jobs' > 1 does not have any effect when 'solver' is set to 'liblinear'. Got 'n_jobs' = 2.\n",
            "  \" = {}.\".format(effective_n_jobs(self.n_jobs))\n"
          ]
        },
        {
          "output_type": "stream",
          "name": "stdout",
          "text": [
            "time 43.492888759999914\n",
            "Accuracy - : 0.385\n"
          ]
        }
      ]
    },
    {
      "cell_type": "code",
      "source": [
        "## Grid search on all parameters took infinite time to run:) so by research and studing the docmentation we conclude that these are the best combinations\n",
        "from sklearn.linear_model import LogisticRegression\n",
        "# from sklearn.model_selection import GridSearchCV\n",
        "logModel4 = LogisticRegression( penalty='l2',solver='sag',max_iter=10000,n_jobs=-1)\n",
        "t1 = time.perf_counter()\n",
        "logModel4.fit(X_train, y_train.values.ravel())\n",
        "t2 = time.perf_counter()\n",
        "print('time', t2-t1)\n",
        "####\n",
        "print (f'Accuracy - : {logModel4.score(X_test,y_test):.3f}')"
      ],
      "metadata": {
        "colab": {
          "base_uri": "https://localhost:8080/"
        },
        "id": "yBfewjapoyse",
        "outputId": "ac8005b0-e5b1-40c8-b5f6-95304f25ccc9"
      },
      "execution_count": 33,
      "outputs": [
        {
          "output_type": "stream",
          "name": "stderr",
          "text": [
            "/usr/local/lib/python3.7/dist-packages/sklearn/utils/validation.py:993: DataConversionWarning: A column-vector y was passed when a 1d array was expected. Please change the shape of y to (n_samples, ), for example using ravel().\n",
            "  y = column_or_1d(y, warn=True)\n"
          ]
        },
        {
          "output_type": "stream",
          "name": "stdout",
          "text": [
            "time 97.06853827699979\n",
            "Accuracy - : 0.391\n"
          ]
        }
      ]
    },
    {
      "cell_type": "code",
      "source": [
        "## Grid search on all parameters took infinite time to run:) so by research and studing the docmentation we conclude that these are the best combinations\n",
        "from sklearn.linear_model import LogisticRegression\n",
        "# from sklearn.model_selection import GridSearchCV\n",
        "logModel5 = LogisticRegression(penalty='none',solver='sag',max_iter=10000,n_jobs=-1)\n",
        "t1 = time.perf_counter()\n",
        "logModel5.fit(X_train, y_train.values.ravel())\n",
        "t2 = time.perf_counter()\n",
        "print('time', t2-t1)\n",
        "####\n",
        "print (f'Accuracy - : {logModel5.score(X_test,y_test):.3f}')"
      ],
      "metadata": {
        "colab": {
          "base_uri": "https://localhost:8080/"
        },
        "id": "1d0vUYMvo1Dq",
        "outputId": "2e3023b9-362d-49f6-b88c-90ba84417e3c"
      },
      "execution_count": 34,
      "outputs": [
        {
          "output_type": "stream",
          "name": "stderr",
          "text": [
            "/usr/local/lib/python3.7/dist-packages/sklearn/utils/validation.py:993: DataConversionWarning: A column-vector y was passed when a 1d array was expected. Please change the shape of y to (n_samples, ), for example using ravel().\n",
            "  y = column_or_1d(y, warn=True)\n"
          ]
        },
        {
          "output_type": "stream",
          "name": "stdout",
          "text": [
            "time 435.1072275060001\n",
            "Accuracy - : 0.391\n"
          ]
        }
      ]
    },
    {
      "cell_type": "code",
      "source": [
        "## Grid search on all parameters took infinite time to run:) so by research and studing the docmentation we conclude that these are the best combinations\n",
        "from sklearn.linear_model import LogisticRegression\n",
        "# from sklearn.model_selection import GridSearchCV\n",
        "logModel6 = LogisticRegression(penalty='l2',solver='lbfgs',max_iter=10000,n_jobs=-1)\n",
        "t1 = time.perf_counter()\n",
        "logModel6.fit(X_train, y_train.values.ravel())\n",
        "t2 = time.perf_counter()\n",
        "print('time', t2-t1)\n",
        "####\n",
        "print (f'Accuracy - : {logModel6.score(X_test,y_test):.3f}')"
      ],
      "metadata": {
        "colab": {
          "base_uri": "https://localhost:8080/"
        },
        "id": "CbSGvpNpo3s3",
        "outputId": "5eadf9e4-e72e-403a-b6f9-72556d6b1b3c"
      },
      "execution_count": 35,
      "outputs": [
        {
          "output_type": "stream",
          "name": "stderr",
          "text": [
            "/usr/local/lib/python3.7/dist-packages/sklearn/utils/validation.py:993: DataConversionWarning: A column-vector y was passed when a 1d array was expected. Please change the shape of y to (n_samples, ), for example using ravel().\n",
            "  y = column_or_1d(y, warn=True)\n"
          ]
        },
        {
          "output_type": "stream",
          "name": "stdout",
          "text": [
            "time 487.62248195300026\n",
            "Accuracy - : 0.391\n"
          ]
        }
      ]
    },
    {
      "cell_type": "code",
      "source": [
        "## Grid search on all parameters took infinite time to run:) so by research and studing the docmentation we conclude that these are the best combinations\n",
        "from sklearn.linear_model import LogisticRegression\n",
        "# from sklearn.model_selection import GridSearchCV\n",
        "logModel = LogisticRegression(penalty='none',solver='lbfgs',max_iter=10000,n_jobs=-1)\n",
        "t1 = time.perf_counter()\n",
        "logModel.fit(X_train, y_train.values.ravel())\n",
        "t2 = time.perf_counter()\n",
        "print('time', t2-t1)\n",
        "####\n",
        "print (f'Accuracy - : {logModel.score(X_test,y_test):.3f}')"
      ],
      "metadata": {
        "colab": {
          "base_uri": "https://localhost:8080/"
        },
        "id": "6W1MKPpKo5t0",
        "outputId": "d6f29a01-d431-4da4-f37f-015e91e47fd8"
      },
      "execution_count": 36,
      "outputs": [
        {
          "output_type": "stream",
          "name": "stderr",
          "text": [
            "/usr/local/lib/python3.7/dist-packages/sklearn/utils/validation.py:993: DataConversionWarning: A column-vector y was passed when a 1d array was expected. Please change the shape of y to (n_samples, ), for example using ravel().\n",
            "  y = column_or_1d(y, warn=True)\n"
          ]
        },
        {
          "output_type": "stream",
          "name": "stdout",
          "text": [
            "time 304.6963478589996\n",
            "Accuracy - : 0.391\n"
          ]
        }
      ]
    },
    {
      "cell_type": "code",
      "source": [
        "import time\n",
        "from sklearn.model_selection import GridSearchCV\n",
        "from sklearn.linear_model import SGDClassifier\n",
        "# SGDClf = linear_model.SGDClassifier(max_iter = 10000, tol=1e-3,penalty = \"elasticnet\")\n",
        "t1 = time.perf_counter()\n",
        "params = {\n",
        "    \"loss\" : [\"hinge\", \"log\", \"squared_hinge\", \"modified_huber\"],\n",
        "    \"alpha\" : [0.0001, 0.001, 0.01],\n",
        "    \"penalty\" : [\"l2\", \"l1\", \"none\"],\n",
        "}\n",
        "model = SGDClassifier(max_iter=10000,n_jobs=-1)\n",
        "clf = GridSearchCV(model, param_grid=params)\n",
        "clf.fit(X_train, y_train.values.ravel())\n",
        "print(clf.best_score_)\n",
        "print(clf.best_estimator_)\n",
        "print('time', t2-t1)\n",
        "print (f'Accuracy - : {clf.score(X_test,y_test):.3f}')"
      ],
      "metadata": {
        "id": "zssAKT2Do8Vp"
      },
      "execution_count": null,
      "outputs": []
    },
    {
      "cell_type": "code",
      "source": [
        ""
      ],
      "metadata": {
        "id": "1mN23cr5n4d-"
      },
      "execution_count": null,
      "outputs": []
    }
  ]
}